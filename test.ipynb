{
 "cells": [
  {
   "cell_type": "code",
   "execution_count": 1,
   "id": "5eb25dc9-3f3e-4d56-8ded-4ab4d79e1188",
   "metadata": {},
   "outputs": [],
   "source": [
    "import utils as ut"
   ]
  },
  {
   "cell_type": "code",
   "execution_count": 2,
   "id": "a3fc9830-9f56-45c8-96b2-c031c66a2dd4",
   "metadata": {},
   "outputs": [],
   "source": [
    "X, y = ut.get_xor()"
   ]
  },
  {
   "cell_type": "code",
   "execution_count": 3,
   "id": "2f8bba2a-2a41-486e-937c-d46f66cbd506",
   "metadata": {},
   "outputs": [
    {
     "data": {
      "text/plain": [
       "array([0, 0, 0, 0, 0, 0, 0, 0, 0, 0, 0, 0, 0, 0, 0, 0, 0, 0, 0, 0, 0, 0,\n",
       "       0, 0, 0, 0, 0, 0, 0, 0, 0, 0, 0, 0, 0, 0, 0, 0, 0, 0, 0, 0, 0, 0,\n",
       "       0, 0, 0, 0, 0, 0, 0, 0, 0, 0, 0, 0, 0, 0, 0, 0, 0, 0, 0, 0, 0, 0,\n",
       "       0, 0, 0, 0, 0, 0, 0, 0, 0, 0, 0, 0, 0, 0, 0, 0, 0, 0, 0, 0, 0, 0,\n",
       "       0, 0, 0, 0, 0, 0, 0, 0, 0, 0, 0, 0, 1, 1, 1, 1, 1, 1, 1, 1, 1, 1,\n",
       "       1, 1, 1, 1, 1, 1, 1, 1, 1, 1, 1, 1, 1, 1, 1, 1, 1, 1, 1, 1, 1, 1,\n",
       "       1, 1, 1, 1, 1, 1, 1, 1, 1, 1, 1, 1, 1, 1, 1, 1, 1, 1, 1, 1, 1, 1,\n",
       "       1, 1, 1, 1, 1, 1, 1, 1, 1, 1, 1, 1, 1, 1, 1, 1, 1, 1, 1, 1, 1, 1,\n",
       "       1, 1, 1, 1, 1, 1, 1, 1, 1, 1, 1, 1, 1, 1, 1, 1, 1, 1, 1, 1, 1, 1,\n",
       "       1, 1])"
      ]
     },
     "execution_count": 3,
     "metadata": {},
     "output_type": "execute_result"
    }
   ],
   "source": [
    "y"
   ]
  },
  {
   "cell_type": "code",
   "execution_count": 4,
   "id": "0e4d445b-f17e-4564-9a77-26a71e715002",
   "metadata": {},
   "outputs": [
    {
     "name": "stdout",
     "output_type": "stream",
     "text": [
      "Melhores parâmetros: {'learning_rate': 0.05, 'epochs': 1000}\n",
      "Média do tempo de execução: 0.03638050556182861\n",
      "Desvio padrão do tempo: 0.0004847002269598995\n",
      "Tempo total de execução: 0.36380505561828613\n",
      "           acc  precision    recall     tempo\n",
      "mean  0.957576   0.959731  0.957576  0.036381\n",
      "std   0.028391   0.025926  0.028391  0.000511\n"
     ]
    }
   ],
   "source": [
    "ut.train_test(X, y)"
   ]
  },
  {
   "cell_type": "code",
   "execution_count": 5,
   "id": "950932ae-4da5-4653-b948-4ae7749c03ca",
   "metadata": {},
   "outputs": [],
   "source": [
    "X_iris, y_iris = ut.iris()"
   ]
  },
  {
   "cell_type": "code",
   "execution_count": 6,
   "id": "74bdde1f-0d1c-40d1-b8df-26cbbb1c36a9",
   "metadata": {},
   "outputs": [
    {
     "data": {
      "text/plain": [
       "array([0, 0, 0, 0, 0, 0, 0, 0, 0, 0, 0, 0, 0, 0, 0, 0, 0, 0, 0, 0, 0, 0,\n",
       "       0, 0, 0, 0, 0, 0, 0, 0, 0, 0, 0, 0, 0, 0, 0, 0, 0, 0, 0, 0, 0, 0,\n",
       "       0, 0, 0, 0, 0, 0, 0, 0, 0, 0, 0, 0, 0, 0, 0, 0, 0, 0, 0, 0, 0, 0,\n",
       "       0, 0, 0, 0, 0, 0, 0, 0, 0, 0, 0, 0, 0, 0, 0, 0, 0, 0, 0, 0, 0, 0,\n",
       "       0, 0, 0, 0, 0, 0, 0, 0, 0, 0, 0, 0, 1, 1, 1, 1, 1, 1, 1, 1, 1, 1,\n",
       "       1, 1, 1, 1, 1, 1, 1, 1, 1, 1, 1, 1, 1, 1, 1, 1, 1, 1, 1, 1, 1, 1,\n",
       "       1, 1, 1, 1, 1, 1, 1, 1, 1, 1, 1, 1, 1, 1, 1, 1, 1, 1])"
      ]
     },
     "execution_count": 6,
     "metadata": {},
     "output_type": "execute_result"
    }
   ],
   "source": [
    "y_iris"
   ]
  },
  {
   "cell_type": "code",
   "execution_count": 7,
   "id": "b30984e7-0c49-446e-8f09-c3b8f97a3961",
   "metadata": {},
   "outputs": [
    {
     "name": "stdout",
     "output_type": "stream",
     "text": [
      "Melhores parâmetros: {'learning_rate': 0.001, 'epochs': 500}\n",
      "Média do tempo de execução: 0.017084026336669923\n",
      "Desvio padrão do tempo: 0.0006658883081195814\n",
      "Tempo total de execução: 0.17084026336669922\n",
      "          acc  precision   recall     tempo\n",
      "mean  0.95800   0.959164  0.95800  0.017084\n",
      "std   0.02201   0.021300  0.02201  0.000702\n"
     ]
    }
   ],
   "source": [
    "ut.train_test(X_iris, y_iris)"
   ]
  },
  {
   "cell_type": "code",
   "execution_count": 8,
   "id": "f1084ce9-15d1-481e-9164-36c808194f10",
   "metadata": {},
   "outputs": [
    {
     "name": "stdout",
     "output_type": "stream",
     "text": [
      "(200, 2)\n",
      "(200,)\n"
     ]
    }
   ],
   "source": [
    "X_m, y_m = ut.makemoons()"
   ]
  },
  {
   "cell_type": "code",
   "execution_count": 9,
   "id": "6a2330c7-63d7-4ba1-b14d-2257afd5b9e5",
   "metadata": {},
   "outputs": [
    {
     "data": {
      "text/plain": [
       "array([0, 0, 0, 1, 1, 1, 0, 1, 1, 0, 0, 1, 1, 0, 1, 1, 0, 1, 0, 0, 1, 0,\n",
       "       1, 0, 0, 0, 0, 0, 1, 1, 0, 0, 0, 0, 1, 1, 1, 1, 1, 0, 0, 1, 0, 0,\n",
       "       1, 1, 0, 0, 1, 0, 1, 1, 0, 1, 1, 0, 1, 0, 1, 0, 1, 0, 0, 0, 0, 1,\n",
       "       0, 1, 0, 1, 0, 1, 1, 0, 1, 1, 0, 1, 1, 1, 0, 0, 0, 1, 1, 0, 1, 0,\n",
       "       1, 0, 0, 1, 1, 0, 0, 1, 1, 0, 0, 1, 0, 0, 1, 1, 1, 1, 0, 0, 1, 1,\n",
       "       1, 0, 1, 1, 0, 1, 0, 0, 1, 0, 0, 1, 1, 1, 0, 0, 1, 1, 0, 0, 1, 0,\n",
       "       0, 1, 0, 1, 0, 1, 0, 1, 1, 1, 1, 0, 0, 0, 0, 1, 0, 0, 1, 1, 0, 0,\n",
       "       0, 0, 1, 1, 0, 0, 1, 1, 1, 1, 0, 0, 1, 0, 1, 0, 0, 0, 0, 0, 1, 1,\n",
       "       1, 0, 1, 1, 0, 0, 1, 1, 1, 1, 0, 1, 0, 0, 1, 1, 0, 1, 0, 1, 0, 0,\n",
       "       1, 1])"
      ]
     },
     "execution_count": 9,
     "metadata": {},
     "output_type": "execute_result"
    }
   ],
   "source": [
    "y_m"
   ]
  },
  {
   "cell_type": "code",
   "execution_count": 10,
   "id": "08ab6ae0-0803-4303-aeaa-16e27761078e",
   "metadata": {},
   "outputs": [
    {
     "name": "stdout",
     "output_type": "stream",
     "text": [
      "Melhores parâmetros: {'learning_rate': 0.05, 'epochs': 1000}\n",
      "Média do tempo de execução: 0.03603365421295166\n",
      "Desvio padrão do tempo: 0.00042903822372077224\n",
      "Tempo total de execução: 0.3603365421295166\n",
      "           acc  precision    recall     tempo\n",
      "mean  0.963636   0.965036  0.963636  0.036034\n",
      "std   0.020453   0.019064  0.020453  0.000452\n"
     ]
    }
   ],
   "source": [
    "ut.train_test(X_m, y_m)"
   ]
  },
  {
   "cell_type": "code",
   "execution_count": null,
   "id": "9f69f631-237f-4908-98cd-80619a91a023",
   "metadata": {},
   "outputs": [],
   "source": []
  }
 ],
 "metadata": {
  "kernelspec": {
   "display_name": "Python 3 (ipykernel)",
   "language": "python",
   "name": "python3"
  },
  "language_info": {
   "codemirror_mode": {
    "name": "ipython",
    "version": 3
   },
   "file_extension": ".py",
   "mimetype": "text/x-python",
   "name": "python",
   "nbconvert_exporter": "python",
   "pygments_lexer": "ipython3",
   "version": "3.10.12"
  }
 },
 "nbformat": 4,
 "nbformat_minor": 5
}
